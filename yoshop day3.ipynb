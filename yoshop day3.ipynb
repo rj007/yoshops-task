{
 "cells": [
  {
   "cell_type": "code",
   "execution_count": 2,
   "id": "southern-adult",
   "metadata": {},
   "outputs": [],
   "source": [
    "#1.Python program to Create a excel file \n",
    "import xlsxwriter\n",
    "\n",
    "# Create a workbook and add a worksheet.\n",
    "workbook = xlsxwriter.Workbook('Expenses01.xlsx')\n",
    "worksheet = workbook.add_worksheet()\n",
    "\n",
    "# Some data we want to write to the worksheet.\n",
    "expenses = (\n",
    "    ['Rent', 1000],\n",
    "    ['Gas',   100],\n",
    "    ['Food',  300],\n",
    "    ['Gym',    50],\n",
    ")\n",
    "\n",
    "# Start from the first cell. Rows and columns are zero indexed.\n",
    "row = 0\n",
    "col = 0\n",
    "\n",
    "# Iterate over the data and write it out row by row.\n",
    "for item, cost in (expenses):\n",
    "    worksheet.write(row, col,     item)\n",
    "    worksheet.write(row, col + 1, cost)\n",
    "    row += 1\n",
    "\n",
    "# Write a total using a formula.\n",
    "worksheet.write(row, 0, 'Total')\n",
    "worksheet.write(row, 1, '=SUM(B1:B4)')\n",
    "\n",
    "workbook.close()"
   ]
  },
  {
   "cell_type": "code",
   "execution_count": 10,
   "id": "specified-search",
   "metadata": {},
   "outputs": [
    {
     "name": "stdout",
     "output_type": "stream",
     "text": [
      "    Rent  1000\n",
      "0    Gas   100\n",
      "1   Food   300\n",
      "2    Gym    50\n",
      "3  Total     0\n"
     ]
    }
   ],
   "source": [
    "#2.Python program for Import data from an excel file \n",
    "import pandas as pd\n",
    "  \n",
    "df = pd.read_excel(\"Expenses01.xlsx\")\n",
    "print(df)"
   ]
  },
  {
   "cell_type": "code",
   "execution_count": 15,
   "id": "exterior-relative",
   "metadata": {},
   "outputs": [
    {
     "name": "stdout",
     "output_type": "stream",
     "text": [
      "    Rent  1000\n",
      "0    Gas   100\n",
      "1   Food   300\n",
      "2    Gym    50\n",
      "3  Total     0\n"
     ]
    }
   ],
   "source": [
    "#2.Python program for Import data from an excel file \n",
    "import pandas as pd\n",
    "\n",
    "df = pd.read_excel (r'E:\\rohit\\Expenses01.xlsx')\n",
    "print (df)"
   ]
  },
  {
   "cell_type": "code",
   "execution_count": 18,
   "id": "front-obligation",
   "metadata": {},
   "outputs": [
    {
     "ename": "SyntaxError",
     "evalue": "invalid character in identifier (<ipython-input-18-2ce10d3b4352>, line 6)",
     "output_type": "error",
     "traceback": [
      "\u001b[1;36m  File \u001b[1;32m\"<ipython-input-18-2ce10d3b4352>\"\u001b[1;36m, line \u001b[1;32m6\u001b[0m\n\u001b[1;33m    file = ‘Expenses01.xlsx’\u001b[0m\n\u001b[1;37m                     ^\u001b[0m\n\u001b[1;31mSyntaxError\u001b[0m\u001b[1;31m:\u001b[0m invalid character in identifier\n"
     ]
    }
   ],
   "source": [
    "#3. Python program for Format data in excel sheet \n",
    "import os \n",
    "os.getcwd()\n",
    "os.chdir() #this changes our CWD, if the excel sheet is not in CWD\n",
    "import pandas as pd \n",
    "file = ‘Expenses01.xlsx’\n",
    "data = pd.ExcelFile(file)\n",
    "print(data.sheet_names) #this returns the all the sheets in the excel file\n",
    "[‘Sheet1’]"
   ]
  },
  {
   "cell_type": "code",
   "execution_count": 19,
   "id": "recreational-shock",
   "metadata": {},
   "outputs": [],
   "source": [
    "#4.Python program for Prepare excel charts \n",
    "# import openpyxl module\n",
    "import openpyxl\n",
    "#import BubbleChart,Reference,Series class from openpyxl.chart #sub_module\n",
    "from openpyxl.chart import BubbleChart, Reference, Series\n",
    "# Call a Workbook() function of openpyxl to create a new blank #Workbook object\n",
    "wb = openpyxl.Workbook()\n",
    "# Get workbook active sheetfrom the active attribute.\n",
    "sheet = wb.active\n",
    "rows = [\n",
    "   (\"Number of Products\", \"Sales in USD\", \"Market share\"),\n",
    "   (14, 12200, 15),\n",
    "   (20, 60000, 33),\n",
    "   (18, 24400, 10),\n",
    "   (22, 32000, 42),\n",
    "]\n",
    "#write content of each row in 1st, 2nd and 3rd column of the active #sheet respectively.\n",
    "for row in rows:\n",
    "   sheet.append(row)\n",
    "# Create object of BubbleChart class\n",
    "chart = BubbleChart()\n",
    "# create data for plotting\n",
    "xvalues = Reference(sheet, min_col = 1, min_row = 2, max_row = 5)\n",
    "yvalues = Reference(sheet, min_col = 2, min_row = 2, max_row = 5)\n",
    "size = Reference(sheet, min_col = 3, min_row = 2, max_row = 5)\n",
    "# create a 1st series of data\n",
    "series = Series(values = yvalues, xvalues = xvalues, zvalues = size, title =\"2013\")\n",
    "# add series data to the chart object\n",
    "chart.series.append(series)\n",
    "# set the title of the chart\n",
    "chart.title = \" BUBBLE-CHART \"\n",
    "# set the title of the x-axis\n",
    "chart.x_axis.title = \" X_AXIS \"  \n",
    "# set the title of the y-axis\n",
    "chart.y_axis.title = \" Y_AXIS \"\n",
    "# add chart to the sheet the top-left corner of a chart\n",
    "# is anchored to cell E2\n",
    "sheet.add_chart(chart, \"E2\")  \n",
    "# save the file\n",
    "wb.save(\"bubbleChart.xlsx\")"
   ]
  },
  {
   "cell_type": "code",
   "execution_count": 20,
   "id": "violent-connectivity",
   "metadata": {},
   "outputs": [],
   "source": [
    "#5. Python program for Extract mobile no from PDF and MS word file and save into MS excel\n",
    "#specific to extracting information from word documents\n",
    "import os\n",
    "import zipfile\n",
    "#other tools useful in extracting the information from our document\n",
    "import re\n",
    "#to pretty print our xml:\n",
    "import xml.dom.minidom"
   ]
  },
  {
   "cell_type": "code",
   "execution_count": null,
   "id": "better-import",
   "metadata": {},
   "outputs": [],
   "source": []
  }
 ],
 "metadata": {
  "kernelspec": {
   "display_name": "Python 3",
   "language": "python",
   "name": "python3"
  },
  "language_info": {
   "codemirror_mode": {
    "name": "ipython",
    "version": 3
   },
   "file_extension": ".py",
   "mimetype": "text/x-python",
   "name": "python",
   "nbconvert_exporter": "python",
   "pygments_lexer": "ipython3",
   "version": "3.8.5"
  }
 },
 "nbformat": 4,
 "nbformat_minor": 5
}
