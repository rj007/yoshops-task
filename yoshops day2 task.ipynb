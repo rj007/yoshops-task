{
 "cells": [
  {
   "cell_type": "code",
   "execution_count": 1,
   "metadata": {},
   "outputs": [],
   "source": [
    "\n",
    "# 1.Python Program to merge two files into a third file.\n",
    "  \n",
    "# Creating a list of filenames\n",
    "filenames = ['file1.txt', 'file2.txt']\n",
    "  \n",
    "# Open file3 in write mode\n",
    "with open('file3.txt', 'w') as outfile:\n",
    "  \n",
    "    # Iterate through list\n",
    "    for names in filenames:\n",
    "  \n",
    "        # Open each file in read mode\n",
    "        with open(names) as infile:\n",
    "  \n",
    "            # read the data from file1 and\n",
    "            # file2 and write it in file3\n",
    "            outfile.write(infile.read())\n",
    "  \n",
    "        # Add '\\n' to enter data of file2\n",
    "        # from next line\n",
    "        outfile.write(\"\\n\")"
   ]
  },
  {
   "cell_type": "markdown",
   "metadata": {},
   "source": [
    "# 2. Python program to reverse the content of a file and store it in another file "
   ]
  },
  {
   "cell_type": "code",
   "execution_count": 2,
   "metadata": {},
   "outputs": [],
   "source": [
    "# Open the file in write mode\n",
    "f1 = open(\"output1.txt\", \"w\")\n",
    "\n",
    "# Open the input file and get\n",
    "# the content into a variable data\n",
    "with open(\"file.txt\", \"r\") as myfile:\n",
    "\tdata = myfile.read()\n",
    "\n",
    "# For Full Reversing we will store the\n",
    "# value of data into new variable data_1\n",
    "# in a reverse order using [start: end: step],\n",
    "# where step when passed -1 will reverse\n",
    "# the string\n",
    "data_1 = data[::-1]\n",
    "\n",
    "# Now we will write the fully reverse\n",
    "# data in the output1 file using\n",
    "# following command\n",
    "f1.write(data_1)\n",
    "\n",
    "f1.close()\n"
   ]
  },
  {
   "cell_type": "markdown",
   "metadata": {},
   "source": [
    "# 3.Python Program for Efficient program to print all prime factors of a given number"
   ]
  },
  {
   "cell_type": "code",
   "execution_count": 9,
   "metadata": {},
   "outputs": [
    {
     "name": "stdout",
     "output_type": "stream",
     "text": [
      "Factor Power\n",
      "2\t3\n",
      "3\t2\n",
      "5\t1\n"
     ]
    }
   ],
   "source": [
    "# Python3 program to print prime\n",
    "# factors and their powers\n",
    "# using Sieve Of Eratosthenes\n",
    "\n",
    "# Using SieveOfEratosthenes to\n",
    "# find smallest prime factor\n",
    "# of all the numbers.\n",
    "\n",
    "# For example, if N is 10,\n",
    "# s[2] = s[4] = s[6] = s[10] = 2\n",
    "# s[3] = s[9] = 3\n",
    "# s[5] = 5\n",
    "# s[7] = 7\n",
    "def sieveOfEratosthenes(N, s):\n",
    "\t\n",
    "\t# Create a boolean array\n",
    "\t# \"prime[0..n]\" and initialize\n",
    "\t# all entries in it as false.\n",
    "\tprime = [False] * (N+1)\n",
    "\n",
    "\t# Initializing smallest factor\n",
    "\t# equal to 2 for all the even\n",
    "\t# numbers\n",
    "\tfor i in range(2, N+1, 2):\n",
    "\t\ts[i] = 2\n",
    "\n",
    "\t# For odd numbers less then\n",
    "\t# equal to n\n",
    "\tfor i in range(3, N+1, 2):\n",
    "\t\tif (prime[i] == False):\n",
    "\t\t\t\n",
    "\t\t\t# s(i) for a prime is\n",
    "\t\t\t# the number itself\n",
    "\t\t\ts[i] = i\n",
    "\n",
    "\t\t\t# For all multiples of\n",
    "\t\t\t# current prime number\n",
    "\t\t\tfor j in range(i, int(N / i) + 1, 2):\n",
    "\t\t\t\tif (prime[i*j] == False):\n",
    "\t\t\t\t\tprime[i*j] = True\n",
    "\n",
    "\t\t\t\t\t# i is the smallest\n",
    "\t\t\t\t\t# prime factor for\n",
    "\t\t\t\t\t# number \"i*j\".\n",
    "\t\t\t\t\ts[i * j] = i\n",
    "\n",
    "# Function to generate prime\n",
    "# factors and its power\n",
    "def generatePrimeFactors(N):\n",
    "\n",
    "\t# s[i] is going to store\n",
    "\t# smallest prime factor\n",
    "\t# of i.\n",
    "\ts = [0] * (N+1)\n",
    "\n",
    "\t# Filling values in s[]\n",
    "\t# using sieve\n",
    "\tsieveOfEratosthenes(N, s)\n",
    "\n",
    "\tprint(\"Factor Power\")\n",
    "\n",
    "\t# Current prime factor of N\n",
    "\tcurr = s[N]\n",
    "\t\n",
    "\t# Power of current prime factor\n",
    "\tcnt = 1\n",
    "\n",
    "\t# Printing prime factors and\n",
    "\t#their powers\n",
    "\twhile (N > 1):\n",
    "\t\tN //= s[N]\n",
    "\n",
    "\t\t# N is now N/s[N]. If new N\n",
    "\t\t# als has smallest prime\n",
    "\t\t# factor as curr, increment\n",
    "\t\t# power\n",
    "\t\tif (curr == s[N]):\n",
    "\t\t\tcnt += 1\n",
    "\t\t\tcontinue\n",
    "\n",
    "\t\tprint(str(curr) + \"\\t\" + str(cnt))\n",
    "\n",
    "\t\t# Update current prime factor\n",
    "\t\t# as s[N] and initializing\n",
    "\t\t# count as 1.\n",
    "\t\tcurr = s[N]\n",
    "\t\tcnt = 1\n",
    "\n",
    "#Driver Program\n",
    "N = 360\n",
    "generatePrimeFactors(N)\n",
    "\n",
    "# This code is contributed by Ansu Kumari\n"
   ]
  },
  {
   "cell_type": "markdown",
   "metadata": {},
   "source": [
    "# 4.Python Program for Coin Change. "
   ]
  },
  {
   "cell_type": "code",
   "execution_count": 10,
   "metadata": {},
   "outputs": [
    {
     "name": "stdout",
     "output_type": "stream",
     "text": [
      "3\n"
     ]
    }
   ],
   "source": [
    "class Solution(object):\n",
    "   def coinChange(self, coins, amount):\n",
    "      if amount == 0 :\n",
    "         return 0\n",
    "      if min(coins) > amount:\n",
    "         return -1\n",
    "      dp = [-1 for i in range(0, amount + 1)]\n",
    "      for i in coins:\n",
    "         if i > len(dp) - 1:\n",
    "            continue\n",
    "         dp[i] = 1\n",
    "         for j in range(i + 1, amount + 1):\n",
    "            if dp[j - i] == -1:\n",
    "               continue\n",
    "            elif dp[j] == -1:\n",
    "               dp[j] = dp[j - i] + 1\n",
    "            else:\n",
    "               dp[j] = min(dp[j], dp[j - i] + 1)\n",
    "         #print(dp)\n",
    "      return dp[amount]\n",
    "ob1 = Solution()\n",
    "print(ob1.coinChange([1,2,5], 11))"
   ]
  },
  {
   "cell_type": "markdown",
   "metadata": {},
   "source": [
    "# 5.Python program to find difference between current time and given time"
   ]
  },
  {
   "cell_type": "code",
   "execution_count": 11,
   "metadata": {},
   "outputs": [
    {
     "name": "stdout",
     "output_type": "stream",
     "text": [
      "The difference between times are given below :\n",
      "23 : 29\n",
      "17 : 48\n",
      "15 : 30\n"
     ]
    }
   ],
   "source": [
    "def difference_time(h_1, m_1, h_2, m_2):\n",
    "\n",
    "   t_1 = h_1 * 60 + m_1\n",
    "   t_2 = h_2 * 60 + m_2\n",
    "\n",
    "   if (t_1 == t_2):\n",
    "      print(\"The times are the same\")\n",
    "      return\n",
    "   else:\n",
    "      diff = t_2-t_1\n",
    "\n",
    "   hours = (int(diff / 60)) % 24\n",
    "\n",
    "   mins = diff % 60\n",
    "\n",
    "   print(hours, \":\", mins)\n",
    "\n",
    "if __name__ == \"__main__\":\n",
    "   print(\"The difference between times are given below :\")\n",
    "   difference_time(13,20,11, 49)\n",
    "   difference_time(17, 11, 9, 59)\n",
    "   difference_time(21, 4, 11, 34)"
   ]
  },
  {
   "cell_type": "markdown",
   "metadata": {},
   "source": [
    "# #6.Python program convert timestamp string to date time ."
   ]
  },
  {
   "cell_type": "code",
   "execution_count": 12,
   "metadata": {},
   "outputs": [
    {
     "name": "stdout",
     "output_type": "stream",
     "text": [
      "date: 23-03-19\n"
     ]
    }
   ],
   "source": [
    "from datetime import datetime\n",
    "timestamp=1553367060\n",
    "dt_obj = datetime.fromtimestamp(timestamp).strftime('%d-%m-%y')\n",
    "print(\"date:\",dt_obj)"
   ]
  },
  {
   "cell_type": "code",
   "execution_count": null,
   "metadata": {},
   "outputs": [],
   "source": []
  }
 ],
 "metadata": {
  "kernelspec": {
   "display_name": "Python 3",
   "language": "python",
   "name": "python3"
  },
  "language_info": {
   "codemirror_mode": {
    "name": "ipython",
    "version": 3
   },
   "file_extension": ".py",
   "mimetype": "text/x-python",
   "name": "python",
   "nbconvert_exporter": "python",
   "pygments_lexer": "ipython3",
   "version": "3.8.3"
  }
 },
 "nbformat": 4,
 "nbformat_minor": 4
}
